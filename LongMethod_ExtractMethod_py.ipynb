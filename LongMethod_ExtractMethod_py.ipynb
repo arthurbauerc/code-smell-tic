{
  "nbformat": 4,
  "nbformat_minor": 0,
  "metadata": {
    "colab": {
      "provenance": [],
      "authorship_tag": "ABX9TyMmxge2lAUJesTnz77H0XVl"
    },
    "kernelspec": {
      "name": "python3",
      "display_name": "Python 3"
    },
    "language_info": {
      "name": "python"
    }
  },
  "cells": [
    {
      "cell_type": "code",
      "execution_count": null,
      "metadata": {
        "id": "QdWI4pZH2W6p"
      },
      "outputs": [],
      "source": [
        "def partida_criciuma():\n",
        "    gols = int(input(\"Gols do Criciúma: \"))\n",
        "    adversario = input(\"Adversário: \")\n",
        "    gols_adversario = int(input(f\"Gols do {adversario}: \"))\n",
        "\n",
        "    print(\"===== Resultado =====\")\n",
        "    print(f\"Criciúma {gols} x {gols_adversario} {adversario}\")\n",
        "\n",
        "    if gols > gols_adversario:\n",
        "        print(\"Criciúma venceu! 🐯\")\n",
        "    elif gols == gols_adversario:\n",
        "        print(\"Empate.\")\n",
        "    else:\n",
        "        print(f\"{adversario} venceu.\")\n",
        "\n",
        "    pontos = 0\n",
        "    if gols > gols_adversario:\n",
        "        pontos += 3\n",
        "    elif gols == gols_adversario:\n",
        "        pontos += 1\n",
        "    print(f\"Total de pontos ganhos: {pontos}\")\n",
        "\n",
        "if __name__ == \"__main__\":\n",
        "  partida_criciuma()\n"
      ]
    }
  ]
}